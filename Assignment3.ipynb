{
 "cells": [
  {
   "cell_type": "code",
   "execution_count": 11,
   "metadata": {},
   "outputs": [],
   "source": [
    "import pandas as pd\n",
    "from sklearn.metrics import accuracy_score\n",
    "import collections\n",
    "import json"
   ]
  },
  {
   "cell_type": "markdown",
   "metadata": {},
   "source": [
    "## Task 1: Vocabulary Creation"
   ]
  },
  {
   "cell_type": "code",
   "execution_count": 12,
   "metadata": {},
   "outputs": [
    {
     "data": {
      "text/html": [
       "<div>\n",
       "<style scoped>\n",
       "    .dataframe tbody tr th:only-of-type {\n",
       "        vertical-align: middle;\n",
       "    }\n",
       "\n",
       "    .dataframe tbody tr th {\n",
       "        vertical-align: top;\n",
       "    }\n",
       "\n",
       "    .dataframe thead th {\n",
       "        text-align: right;\n",
       "    }\n",
       "</style>\n",
       "<table border=\"1\" class=\"dataframe\">\n",
       "  <thead>\n",
       "    <tr style=\"text-align: right;\">\n",
       "      <th></th>\n",
       "      <th>0</th>\n",
       "      <th>1</th>\n",
       "      <th>2</th>\n",
       "    </tr>\n",
       "  </thead>\n",
       "  <tbody>\n",
       "    <tr>\n",
       "      <th>0</th>\n",
       "      <td>1</td>\n",
       "      <td>Pierre</td>\n",
       "      <td>NNP</td>\n",
       "    </tr>\n",
       "    <tr>\n",
       "      <th>1</th>\n",
       "      <td>2</td>\n",
       "      <td>Vinken</td>\n",
       "      <td>NNP</td>\n",
       "    </tr>\n",
       "    <tr>\n",
       "      <th>2</th>\n",
       "      <td>3</td>\n",
       "      <td>,</td>\n",
       "      <td>,</td>\n",
       "    </tr>\n",
       "    <tr>\n",
       "      <th>3</th>\n",
       "      <td>4</td>\n",
       "      <td>61</td>\n",
       "      <td>CD</td>\n",
       "    </tr>\n",
       "    <tr>\n",
       "      <th>4</th>\n",
       "      <td>5</td>\n",
       "      <td>years</td>\n",
       "      <td>NNS</td>\n",
       "    </tr>\n",
       "  </tbody>\n",
       "</table>\n",
       "</div>"
      ],
      "text/plain": [
       "   0       1    2\n",
       "0  1  Pierre  NNP\n",
       "1  2  Vinken  NNP\n",
       "2  3       ,    ,\n",
       "3  4      61   CD\n",
       "4  5   years  NNS"
      ]
     },
     "execution_count": 12,
     "metadata": {},
     "output_type": "execute_result"
    }
   ],
   "source": [
    "traindf = pd.read_csv('data/train', sep=\"\\t\", header=None)\n",
    "traindf.head()"
   ]
  },
  {
   "cell_type": "code",
   "execution_count": 13,
   "metadata": {},
   "outputs": [],
   "source": [
    "# Storing train words, indices and labels separately\n",
    "indices, words, labels = traindf[0], traindf[1], traindf[2]"
   ]
  },
  {
   "cell_type": "code",
   "execution_count": 14,
   "metadata": {},
   "outputs": [],
   "source": [
    "# calculating word frequencies / occurences\n",
    "wordFrequencies = collections.Counter()\n",
    "for word in words:\n",
    "  wordFrequencies[word] += 1"
   ]
  },
  {
   "cell_type": "code",
   "execution_count": 15,
   "metadata": {},
   "outputs": [],
   "source": [
    "knownVocab = {}\n",
    "numOfUnknowns = 0\n",
    "\n",
    "for word in wordFrequencies:\n",
    "  if wordFrequencies[word] >= 3:\n",
    "    knownVocab[word] = wordFrequencies[word]\n",
    "  else:\n",
    "    numOfUnknowns += wordFrequencies[word]"
   ]
  },
  {
   "cell_type": "code",
   "execution_count": 16,
   "metadata": {},
   "outputs": [],
   "source": [
    "sortedVocab = sorted(wordFrequencies.items(), key=lambda x: x[1], reverse=True)"
   ]
  },
  {
   "cell_type": "code",
   "execution_count": 17,
   "metadata": {},
   "outputs": [],
   "source": [
    "with open('output/vocab.txt', 'w') as vocab:\n",
    "  vocab.write(\"'<unk>'\\t0\\t{}\".format(numOfUnknowns))\n",
    "  for i in range(len(sortedVocab)):\n",
    "    vocab.write(\"{}\\t{}\\t{}\\n\".format(sortedVocab[i][0], i+1, sortedVocab[i][1]))"
   ]
  },
  {
   "cell_type": "code",
   "execution_count": 18,
   "metadata": {},
   "outputs": [
    {
     "name": "stdout",
     "output_type": "stream",
     "text": [
      "The selected threshold for unknown words replacement is 3\n",
      "The total size of my vocabulary 43193\n",
      "The total occurrences of the special token ‘<unk>’ after replacement 32537\n"
     ]
    }
   ],
   "source": [
    "print(\"The selected threshold for unknown words replacement is 3\")\n",
    "print(\"The total size of my vocabulary\", len(sortedVocab))\n",
    "print(\"The total occurrences of the special token ‘<unk>’ after replacement\", numOfUnknowns)"
   ]
  },
  {
   "cell_type": "markdown",
   "metadata": {},
   "source": [
    "## Task 2: Model Learning"
   ]
  },
  {
   "cell_type": "code",
   "execution_count": 19,
   "metadata": {},
   "outputs": [],
   "source": [
    "knownWords = list(knownVocab.keys())\n",
    "\n",
    "words = words.apply(lambda x: x if x in knownWords else '<unk>')"
   ]
  },
  {
   "cell_type": "code",
   "execution_count": 20,
   "metadata": {},
   "outputs": [],
   "source": [
    "sTos, sTox = {}, {}\n",
    "startTag, unkTag = '<s>', '<unk>'\n",
    "\n",
    "# calculating counts of transitions one pos to next pos\n",
    "for i in range(len(words)-1):\n",
    "  if indices[i] < indices[i+1]:\n",
    "    if (labels[i], labels[i+1]) in sTos:\n",
    "      sTos[(labels[i], labels[i+1])] += 1\n",
    "    else:\n",
    "      sTos[(labels[i], labels[i+1])] = 1\n",
    "\n",
    "for i in range(len(words)):\n",
    "  if indices[i] == 1:\n",
    "    if (startTag, labels[i]) in sTos:\n",
    "      sTos[(startTag, labels[i])] += 1\n",
    "    else:\n",
    "      sTos[(startTag, labels[i])] = 1"
   ]
  },
  {
   "cell_type": "code",
   "execution_count": 21,
   "metadata": {},
   "outputs": [],
   "source": [
    "# calculating counts of emissions i.e word | pos\n",
    "for i in range(len(words)-1):\n",
    "  if indices[i] < indices[i+1]:\n",
    "    if (labels[i], words[i]) in sTox:\n",
    "      sTox[(labels[i], words[i])] += 1\n",
    "    else:\n",
    "      sTox[(labels[i], words[i])] = 1\n",
    "\n",
    "for i in range(len(words)-1):\n",
    "  if words[i] == \"<unk>\":\n",
    "    if (labels[i], \"<unk>\") in sTox:\n",
    "      sTox[(labels[i], \"<unk>\")] += 1\n",
    "    else:\n",
    "      sTox[(labels[i], \"<unk>\")] = 1"
   ]
  },
  {
   "cell_type": "code",
   "execution_count": 22,
   "metadata": {},
   "outputs": [],
   "source": [
    "# calculating the frequencies of labels i.e pos tags\n",
    "labelFrequencies = collections.Counter()\n",
    "for label in labels:\n",
    "  labelFrequencies[label] += 1\n",
    "\n",
    "labelFrequencies[startTag] = 0\n",
    "for i in indices:\n",
    "  if i == 1:\n",
    "    labelFrequencies[startTag] += 1"
   ]
  },
  {
   "cell_type": "code",
   "execution_count": 23,
   "metadata": {},
   "outputs": [],
   "source": [
    "# calculating the emissions and transitions probability\n",
    "emissions, transitions = {}, {}\n",
    "\n",
    "for key, value in sTos.items():\n",
    "  transitions[str(key)] = value / labelFrequencies[key[0]]\n",
    "\n",
    "for key, value in sTox.items():\n",
    "  emissions[str(key)] = value / labelFrequencies[key[0]]"
   ]
  },
  {
   "cell_type": "code",
   "execution_count": 24,
   "metadata": {},
   "outputs": [],
   "source": [
    "# creating hmm.json and storing emission and transition parameters\n",
    "hmmJson = {\"transition\":transitions, \"emission\":emissions}\n",
    "json_object = json.dumps(hmmJson, indent=2)\n",
    "with open('output/hmm.json', 'w') as op:\n",
    "    op.write(json_object)"
   ]
  },
  {
   "cell_type": "code",
   "execution_count": 25,
   "metadata": {},
   "outputs": [
    {
     "name": "stdout",
     "output_type": "stream",
     "text": [
      "The number of transition parameters are 1392\n",
      "The number of emission parameters are 23350\n"
     ]
    }
   ],
   "source": [
    "print(\"The number of transition parameters are\", len(transitions))\n",
    "print(\"The number of emission parameters are\", len(emissions))"
   ]
  },
  {
   "cell_type": "markdown",
   "metadata": {},
   "source": [
    "## Task 3: Greedy Decoding with HMM"
   ]
  },
  {
   "cell_type": "code",
   "execution_count": 26,
   "metadata": {},
   "outputs": [],
   "source": [
    "disticntLabels = list(labelFrequencies.keys())"
   ]
  },
  {
   "cell_type": "code",
   "execution_count": 27,
   "metadata": {},
   "outputs": [],
   "source": [
    "# reading the emission and transition params that we stored in hmm.json\n",
    "with open('output/hmm.json', 'r') as hmm:\n",
    "  jsonData = json.load(hmm)\n",
    "\n",
    "emissionParams, transitionParams = jsonData[\"emission\"], jsonData[\"transition\"]"
   ]
  },
  {
   "cell_type": "code",
   "execution_count": 28,
   "metadata": {},
   "outputs": [
    {
     "data": {
      "text/html": [
       "<div>\n",
       "<style scoped>\n",
       "    .dataframe tbody tr th:only-of-type {\n",
       "        vertical-align: middle;\n",
       "    }\n",
       "\n",
       "    .dataframe tbody tr th {\n",
       "        vertical-align: top;\n",
       "    }\n",
       "\n",
       "    .dataframe thead th {\n",
       "        text-align: right;\n",
       "    }\n",
       "</style>\n",
       "<table border=\"1\" class=\"dataframe\">\n",
       "  <thead>\n",
       "    <tr style=\"text-align: right;\">\n",
       "      <th></th>\n",
       "      <th>0</th>\n",
       "      <th>1</th>\n",
       "      <th>2</th>\n",
       "    </tr>\n",
       "  </thead>\n",
       "  <tbody>\n",
       "    <tr>\n",
       "      <th>0</th>\n",
       "      <td>1</td>\n",
       "      <td>The</td>\n",
       "      <td>DT</td>\n",
       "    </tr>\n",
       "    <tr>\n",
       "      <th>1</th>\n",
       "      <td>2</td>\n",
       "      <td>Arizona</td>\n",
       "      <td>NNP</td>\n",
       "    </tr>\n",
       "    <tr>\n",
       "      <th>2</th>\n",
       "      <td>3</td>\n",
       "      <td>Corporations</td>\n",
       "      <td>NNP</td>\n",
       "    </tr>\n",
       "    <tr>\n",
       "      <th>3</th>\n",
       "      <td>4</td>\n",
       "      <td>Commission</td>\n",
       "      <td>NNP</td>\n",
       "    </tr>\n",
       "    <tr>\n",
       "      <th>4</th>\n",
       "      <td>5</td>\n",
       "      <td>authorized</td>\n",
       "      <td>VBD</td>\n",
       "    </tr>\n",
       "  </tbody>\n",
       "</table>\n",
       "</div>"
      ],
      "text/plain": [
       "   0             1    2\n",
       "0  1           The   DT\n",
       "1  2       Arizona  NNP\n",
       "2  3  Corporations  NNP\n",
       "3  4    Commission  NNP\n",
       "4  5    authorized  VBD"
      ]
     },
     "execution_count": 28,
     "metadata": {},
     "output_type": "execute_result"
    }
   ],
   "source": [
    "# reading dev data\n",
    "devData = pd.read_csv('data/dev', sep='\\t', header=None)\n",
    "devData.head()"
   ]
  },
  {
   "cell_type": "code",
   "execution_count": 29,
   "metadata": {},
   "outputs": [],
   "source": [
    "# Storing dev words, indices and labels separately\n",
    "devIndices, devWords, devLabels = devData[0], devData[1], devData[2]"
   ]
  },
  {
   "cell_type": "code",
   "execution_count": 30,
   "metadata": {},
   "outputs": [],
   "source": [
    "listOfDevSentences, listofDevLabelsSentences = [], []\n",
    "wordSample, labelSample = [], []\n",
    "for i in range(len(devData)-1):\n",
    "  if devIndices[i] < devIndices[i+1]:\n",
    "    wordSample.append(devWords[i])\n",
    "    labelSample.append(devLabels[i])\n",
    "  else:\n",
    "    wordSample.append(devWords[i])\n",
    "    listOfDevSentences.append(wordSample)\n",
    "    wordSample = []\n",
    "\n",
    "    labelSample.append(devLabels[i])\n",
    "    listofDevLabelsSentences.append(labelSample)\n",
    "    labelSample = []"
   ]
  },
  {
   "cell_type": "code",
   "execution_count": 31,
   "metadata": {},
   "outputs": [],
   "source": [
    "def greedyDecoding(sentence):\n",
    "  predLabels = []\n",
    "    \n",
    "  if sentence[0] not in knownWords:\n",
    "    sentence[0] = unkTag\n",
    "  \n",
    "  maxProb = 0\n",
    "  state0 = 'UNK'\n",
    "    \n",
    "  for label in labelFrequencies:\n",
    "    try:\n",
    "      probab = emissionParams[str((label, sentence[0]))] * transitionParams[str((startTag, label))]\n",
    "      if probab > maxProb:\n",
    "        maxProb = probab\n",
    "        state0 = label\n",
    "    except:\n",
    "      pass\n",
    "      \n",
    "  predLabels.append(state0)\n",
    "  \n",
    "  # predicting the labels of the remaining words\n",
    "  \n",
    "  for i in range(1, len(sentence)):\n",
    "    if sentence[i] not in knownWords:\n",
    "      sentence[i] = unkTag\n",
    "      \n",
    "    maxProb = 0\n",
    "    state = 'UNK'\n",
    "    \n",
    "    for label in labelFrequencies:\n",
    "      try:\n",
    "        probab = emissionParams[str((label, sentence[i]))] * transitionParams[str((predLabels[-1], label))]\n",
    "        if probab > maxProb:\n",
    "          maxProb = probab\n",
    "          state = label\n",
    "      except:\n",
    "        pass\n",
    "          \n",
    "    predLabels.append(state)\n",
    "  \n",
    "  return predLabels"
   ]
  },
  {
   "cell_type": "code",
   "execution_count": 32,
   "metadata": {},
   "outputs": [],
   "source": [
    "# applying greedy decoding algorithm to devData\n",
    "lablesGreedy = [greedyDecoding(sent) for sent in listOfDevSentences]"
   ]
  },
  {
   "cell_type": "code",
   "execution_count": 33,
   "metadata": {},
   "outputs": [],
   "source": [
    "# creating a single list of all the predicted labels i.e. pos tags using greedy decoding\n",
    "predGreedyLabels = []\n",
    "for i in range(len(lablesGreedy)):\n",
    "  for label in lablesGreedy[i]:\n",
    "    predGreedyLabels.append(label)"
   ]
  },
  {
   "cell_type": "code",
   "execution_count": 34,
   "metadata": {},
   "outputs": [],
   "source": [
    "# creating a single list of all the dev labels i.e. pos tags\n",
    "actualDevLabels = []\n",
    "for i in range(len(listofDevLabelsSentences)):\n",
    "  for label in listofDevLabelsSentences[i]:\n",
    "    actualDevLabels.append(label)"
   ]
  },
  {
   "cell_type": "code",
   "execution_count": 35,
   "metadata": {},
   "outputs": [
    {
     "name": "stdout",
     "output_type": "stream",
     "text": [
      "The prediction accuracy on the dev data using Greedy Decoding is 92.67%\n"
     ]
    }
   ],
   "source": [
    "# calculating accuracy on the dev data using Greedy Decoding\n",
    "print('The prediction accuracy on the dev data using Greedy Decoding is {:.2f}%'.format(accuracy_score(actualDevLabels, predGreedyLabels) * 100))"
   ]
  },
  {
   "cell_type": "code",
   "execution_count": 36,
   "metadata": {},
   "outputs": [],
   "source": [
    "# creating file containing greedy labels (POS tags)\n",
    "with open('output/predGreedy', 'w') as file:\n",
    "  for i in range(len(predGreedyLabels)):\n",
    "    if devIndices[i] == 1 and i > 35:\n",
    "      file.write(\"\\n\")\n",
    "    file.write(\"{}\\t{}\\t{}\\n\".format(devIndices[i], devWords[i], predGreedyLabels[i]))"
   ]
  },
  {
   "cell_type": "code",
   "execution_count": 37,
   "metadata": {},
   "outputs": [
    {
     "name": "stdout",
     "output_type": "stream",
     "text": [
      "output/predGreedy\n",
      "data/dev\n",
      "'' '38\\t.\\t.' 131751\n",
      "total: 131751, correct: 122099, accuracy: 92.67%\n"
     ]
    }
   ],
   "source": [
    "! python eval.py -p \"output/predGreedy\" -g \"data/dev\""
   ]
  },
  {
   "cell_type": "markdown",
   "metadata": {},
   "source": [
    "## Task 4: Viterbi Decoding with HMM"
   ]
  },
  {
   "cell_type": "code",
   "execution_count": 38,
   "metadata": {},
   "outputs": [],
   "source": [
    "def viterbiDecoding(sentence):\n",
    "  seq = {i:{} for i in range(len(sentence))}\n",
    "  initialpos = {i:{} for i in range(len(sentence))}    \n",
    "  \n",
    "  if sentence[0] not in knownWords:\n",
    "    sentence[0] = unkTag\n",
    "      \n",
    "  for label in labelFrequencies:\n",
    "    if str((startTag, label)) in transitionParams:\n",
    "      try:\n",
    "        seq[0][label] = transitionParams[str(((startTag, label)))] * emissionParams[str((label, sentence[0]))]\n",
    "      except:\n",
    "        seq[0][label] = 0\n",
    "  \n",
    "  for state in seq[0].keys():\n",
    "    initialpos[0][state] = '<s>'\n",
    "  \n",
    "  for i in range(1, len(sentence)):\n",
    "    # still, check if the word is in the vocabulary\n",
    "    if sentence[i] not in knownWords:\n",
    "      sentence[i] = unkTag\n",
    "          \n",
    "    for pos in seq[i-1].keys():\n",
    "      for label in labelFrequencies:\n",
    "        if str((pos, label)) in transitionParams:\n",
    "          if label in seq[i]:\n",
    "            try:\n",
    "              temp = seq[i-1][pos] *  transitionParams[str((pos, label))] * emissionParams[str((label, sentence[i]))]\n",
    "              if  temp > seq[i][label]:\n",
    "                seq[i][label] = temp\n",
    "                initialpos[i][label] = pos\n",
    "            except:\n",
    "              pass\n",
    "          else:\n",
    "            try:\n",
    "              seq[i][label] = seq[i-1][pos] *  transitionParams[str((pos, label))] * emissionParams[str((label, sentence[i]))]\n",
    "              initialpos[i][label] = pos\n",
    "            except:\n",
    "              seq[i][label] = 0\n",
    "  \n",
    "  predLabels = []\n",
    "  \n",
    "  maxProbab = max(seq[len(sentence)-1].values())\n",
    "  maxIndex = list(seq[len(sentence)-1].values()).index(maxProbab)\n",
    "  maxState = list(seq[len(sentence)-1].keys())[maxIndex]\n",
    "  predLabels.append(maxState)\n",
    "  \n",
    "  for i in range(len(sentence)-1, 0, -1):\n",
    "    try:\n",
    "      maxState = initialpos[i][maxState]\n",
    "      predLabels.append(maxState)\n",
    "    except:\n",
    "      predLabels.append('UNK')\n",
    "      \n",
    "  predLabels = [predLabels[i] for i in range(len(predLabels)-1, -1, -1)]\n",
    "  return predLabels"
   ]
  },
  {
   "cell_type": "code",
   "execution_count": 39,
   "metadata": {},
   "outputs": [],
   "source": [
    "labelsViterbi = [viterbiDecoding(sent) for sent in listOfDevSentences]"
   ]
  },
  {
   "cell_type": "code",
   "execution_count": 40,
   "metadata": {},
   "outputs": [],
   "source": [
    "predViterbiLabels = []\n",
    "for i in range(len(labelsViterbi)):\n",
    "  for label in labelsViterbi[i]:\n",
    "    predViterbiLabels.append(label)"
   ]
  },
  {
   "cell_type": "code",
   "execution_count": 41,
   "metadata": {},
   "outputs": [],
   "source": [
    "actualDevLabels = []\n",
    "for i in range(len(listofDevLabelsSentences)):\n",
    "  for label in listofDevLabelsSentences[i]:\n",
    "    actualDevLabels.append(label)"
   ]
  },
  {
   "cell_type": "code",
   "execution_count": 42,
   "metadata": {},
   "outputs": [
    {
     "name": "stdout",
     "output_type": "stream",
     "text": [
      "The prediction accuracy on the dev data using viterbi Decoding is 94.36%\n"
     ]
    }
   ],
   "source": [
    "# calculating accuracy on the dev data using viterbi Decoding\n",
    "print('The prediction accuracy on the dev data using viterbi Decoding is {:.2f}%'.format(accuracy_score(actualDevLabels, predViterbiLabels) * 100))"
   ]
  },
  {
   "cell_type": "code",
   "execution_count": 43,
   "metadata": {},
   "outputs": [],
   "source": [
    "# creating file containing Viterbi labels (POS tags)\n",
    "with open('output/predViterbi', 'w') as file:\n",
    "  for i in range(len(predViterbiLabels)):\n",
    "    if devIndices[i] == 1 and i > 35:\n",
    "      file.write(\"\\n\")\n",
    "    file.write(\"{}\\t{}\\t{}\\n\".format(devIndices[i], devWords[i], predViterbiLabels[i]))"
   ]
  },
  {
   "cell_type": "code",
   "execution_count": 44,
   "metadata": {},
   "outputs": [
    {
     "name": "stdout",
     "output_type": "stream",
     "text": [
      "output/predViterbi\n",
      "data/dev\n",
      "'' '38\\t.\\t.' 131751\n",
      "total: 131751, correct: 124322, accuracy: 94.36%\n"
     ]
    }
   ],
   "source": [
    "! python eval.py -p \"output/predViterbi\" -g \"data/dev\""
   ]
  },
  {
   "cell_type": "markdown",
   "metadata": {},
   "source": [
    "Creating greedy.out and viterbi.out using the Test Data"
   ]
  },
  {
   "cell_type": "code",
   "execution_count": 45,
   "metadata": {},
   "outputs": [
    {
     "data": {
      "text/html": [
       "<div>\n",
       "<style scoped>\n",
       "    .dataframe tbody tr th:only-of-type {\n",
       "        vertical-align: middle;\n",
       "    }\n",
       "\n",
       "    .dataframe tbody tr th {\n",
       "        vertical-align: top;\n",
       "    }\n",
       "\n",
       "    .dataframe thead th {\n",
       "        text-align: right;\n",
       "    }\n",
       "</style>\n",
       "<table border=\"1\" class=\"dataframe\">\n",
       "  <thead>\n",
       "    <tr style=\"text-align: right;\">\n",
       "      <th></th>\n",
       "      <th>0</th>\n",
       "      <th>1</th>\n",
       "    </tr>\n",
       "  </thead>\n",
       "  <tbody>\n",
       "    <tr>\n",
       "      <th>0</th>\n",
       "      <td>1</td>\n",
       "      <td>Influential</td>\n",
       "    </tr>\n",
       "    <tr>\n",
       "      <th>1</th>\n",
       "      <td>2</td>\n",
       "      <td>members</td>\n",
       "    </tr>\n",
       "    <tr>\n",
       "      <th>2</th>\n",
       "      <td>3</td>\n",
       "      <td>of</td>\n",
       "    </tr>\n",
       "    <tr>\n",
       "      <th>3</th>\n",
       "      <td>4</td>\n",
       "      <td>the</td>\n",
       "    </tr>\n",
       "    <tr>\n",
       "      <th>4</th>\n",
       "      <td>5</td>\n",
       "      <td>House</td>\n",
       "    </tr>\n",
       "  </tbody>\n",
       "</table>\n",
       "</div>"
      ],
      "text/plain": [
       "   0            1\n",
       "0  1  Influential\n",
       "1  2      members\n",
       "2  3           of\n",
       "3  4          the\n",
       "4  5        House"
      ]
     },
     "execution_count": 45,
     "metadata": {},
     "output_type": "execute_result"
    }
   ],
   "source": [
    "# reading test data\n",
    "testData = pd.read_csv('data/test', sep='\\t', header=None)\n",
    "testData.head()"
   ]
  },
  {
   "cell_type": "code",
   "execution_count": 47,
   "metadata": {},
   "outputs": [],
   "source": [
    "# Storing test words, indices and labels separately\n",
    "testIndices, testWords = testData[0], testData[1]"
   ]
  },
  {
   "cell_type": "code",
   "execution_count": 48,
   "metadata": {},
   "outputs": [],
   "source": [
    "listOfTestSentences, wordSampleTest = [], []\n",
    "for i in range(len(testData)-1):\n",
    "  if devIndices[i] < testIndices[i+1]:\n",
    "    wordSampleTest.append(testWords[i])\n",
    "  else:\n",
    "    wordSampleTest.append(testWords[i])\n",
    "    listOfTestSentences.append(wordSampleTest)\n",
    "    wordSampleTest = []"
   ]
  },
  {
   "cell_type": "code",
   "execution_count": 49,
   "metadata": {},
   "outputs": [],
   "source": [
    "# applying greedy decoding algorithm to test data \n",
    "lablesGreedyTest = [greedyDecoding(sent) for sent in listOfTestSentences]"
   ]
  },
  {
   "cell_type": "code",
   "execution_count": 50,
   "metadata": {},
   "outputs": [],
   "source": [
    "# applying viterbi decoding algorithm to test data \n",
    "lablesViterbiTest = [viterbiDecoding(sent) for sent in listOfTestSentences]"
   ]
  },
  {
   "cell_type": "code",
   "execution_count": 51,
   "metadata": {},
   "outputs": [],
   "source": [
    "# creating a single list of all the predicted labels i.e. pos tags using greedy \n",
    "predGreedyLabelsTest = []\n",
    "for i in range(len(lablesGreedyTest)):\n",
    "  for label in lablesGreedyTest[i]:\n",
    "    predGreedyLabelsTest.append(label)"
   ]
  },
  {
   "cell_type": "code",
   "execution_count": 52,
   "metadata": {},
   "outputs": [],
   "source": [
    "# creating file greedy.out containing greedy labels (POS tags) for test data\n",
    "with open('output/greedy.out', 'w') as file:\n",
    "  for i in range(len(predGreedyLabelsTest)):\n",
    "    if testIndices[i] == 1 and i > 35:\n",
    "      file.write(\"\\n\")\n",
    "    file.write(\"{}\\t{}\\t{}\\n\".format(testIndices[i], testWords[i], predGreedyLabelsTest[i]))"
   ]
  },
  {
   "cell_type": "code",
   "execution_count": 53,
   "metadata": {},
   "outputs": [],
   "source": [
    "# creating a single list of all the predicted labels i.e. pos tags using viterbi \n",
    "predViterbiLabelsTest = []\n",
    "for i in range(len(lablesViterbiTest)):\n",
    "  for label in lablesViterbiTest[i]:\n",
    "    predViterbiLabelsTest.append(label)"
   ]
  },
  {
   "cell_type": "code",
   "execution_count": 54,
   "metadata": {},
   "outputs": [],
   "source": [
    "# creating file viterbi.out containing viterbi labels (POS tags) for test data\n",
    "with open('output/viterbi.out', 'w') as file:\n",
    "  for i in range(len(predViterbiLabelsTest)):\n",
    "    if testIndices[i] == 1 and i > 35:\n",
    "      file.write(\"\\n\")\n",
    "    file.write(\"{}\\t{}\\t{}\\n\".format(testIndices[i], testWords[i], predViterbiLabelsTest[i]))"
   ]
  }
 ],
 "metadata": {
  "kernelspec": {
   "display_name": "Python 3",
   "language": "python",
   "name": "python3"
  },
  "language_info": {
   "codemirror_mode": {
    "name": "ipython",
    "version": 3
   },
   "file_extension": ".py",
   "mimetype": "text/x-python",
   "name": "python",
   "nbconvert_exporter": "python",
   "pygments_lexer": "ipython3",
   "version": "3.11.0"
  }
 },
 "nbformat": 4,
 "nbformat_minor": 2
}
